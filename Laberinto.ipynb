{
  "nbformat": 4,
  "nbformat_minor": 0,
  "metadata": {
    "colab": {
      "provenance": []
    },
    "kernelspec": {
      "name": "python3",
      "display_name": "Python 3"
    },
    "language_info": {
      "name": "python"
    }
  },
  "cells": [
    {
      "cell_type": "code",
      "source": [
        "import numpy as np\n",
        "import random\n",
        "import matplotlib.pyplot as plt"
      ],
      "metadata": {
        "id": "Sa8nq_5-1L0S"
      },
      "execution_count": null,
      "outputs": []
    },
    {
      "cell_type": "code",
      "execution_count": null,
      "metadata": {
        "id": "1Gxch0xnym-X"
      },
      "outputs": [],
      "source": [
        "# Funcion para crear el laberinto\n",
        "def crear_laberinto(tamanio, porcentaje_paredes=20, inicio=(0,0), meta=None):\n",
        "  laberinto = np.zeros((tamanio, tamanio))\n",
        "  numero_paredes = int((tamanio * tamanio) * (porcentaje_paredes / 100))\n",
        "\n",
        "  # Ubicar paredes\n",
        "  for pared in range(numero_paredes):\n",
        "    x, y = random.randint(0, tamanio - 1), random.randint(0, tamanio - 1)\n",
        "\n",
        "    # Cuidar que inicio y meta no sean paredes\n",
        "    if (x,y) != inicio and (x,y) != meta:\n",
        "      laberinto[x][y] = 1\n",
        "\n",
        "  # Ubicar al meta\n",
        "  if meta:\n",
        "    laberinto[meta] = 9 # Representa la meta con 9\n",
        "  else:\n",
        "    # Ubicar la meta aleatoriamente si no esta especificado\n",
        "    while True:\n",
        "      x, y = random.randint(0, tamanio - 1), random.randint(0, tamanio - 1)\n",
        "      if laberinto[x, y] == 0 and (x, y) != inicio:\n",
        "        laberinto[x][y] = 9\n",
        "        break\n",
        "\n",
        "  return laberinto"
      ]
    },
    {
      "cell_type": "code",
      "source": [
        "# Funcion para visualizar el laberinto\n",
        "def ver_laberinto(laberinto):\n",
        "  plt.figure(figsize=(5,5))\n",
        "  plt.imshow(laberinto, cmap='hot', interpolation='nearest')\n",
        "  plt.colorbar()"
      ],
      "metadata": {
        "id": "Em4R5Z-x0O2T"
      },
      "execution_count": null,
      "outputs": []
    },
    {
      "cell_type": "code",
      "source": [
        "# Ejemplo de crear y mostrar laberintos\n",
        "laberinto = crear_laberinto(10, 20, inicio=(0,0), meta=(9,9))\n",
        "ver_laberinto(laberinto)"
      ],
      "metadata": {
        "colab": {
          "base_uri": "https://localhost:8080/",
          "height": 435
        },
        "id": "8wNXP9bz0n71",
        "outputId": "875cd86c-1548-4608-ecaf-60a791fa4bc2"
      },
      "execution_count": null,
      "outputs": [
        {
          "output_type": "display_data",
          "data": {
            "text/plain": [
              "<Figure size 500x500 with 2 Axes>"
            ],
            "image/png": "[encoded data removed]"
          },
          "metadata": {}
        }
      ]
    },
    {
      "cell_type": "code",
      "source": [
        "# Parametros para el algoritmo Q-Learning"
      ],
      "metadata": {
        "id": "QQ7Z2j7j1V-f"
      },
      "execution_count": null,
      "outputs": []
    },
    {
      "cell_type": "code",
      "source": [
        "alpha = 0.1 # Tasa de aprendizaje\n",
        "gamma = 0.9 # Factor de descuento\n",
        "epsilon = 0.1 # Probabilidad de exploración\n",
        "num_episodios = 500 # Numero de episodios para entrenar"
      ],
      "metadata": {
        "id": "olbKX7Jz1ah-"
      },
      "execution_count": null,
      "outputs": []
    },
    {
      "cell_type": "code",
      "source": [
        "# Funcion para elegir acciones equilibrando entre explotacion y exploracion"
      ],
      "metadata": {
        "id": "M-_7ugZ21r9p"
      },
      "execution_count": null,
      "outputs": []
    },
    {
      "cell_type": "code",
      "source": [
        "def epsilon_codicioso(Q, estado, tamanio):\n",
        "  if random.uniform(0,1) < epsilon:\n",
        "    # Exploracion\n",
        "    accion = random.randint(0, 3) # Suponemos 4 acciones posibles: arriba, abajo, izquierda, derecha\n",
        "  else:\n",
        "    # Explotacion\n",
        "    return np.argmax(Q[estado])"
      ],
      "metadata": {
        "id": "mJstlruY1wkn"
      },
      "execution_count": null,
      "outputs": []
    },
    {
      "cell_type": "code",
      "source": [
        "# Funcion para simular la accion en el laberinto"
      ],
      "metadata": {
        "id": "kcaNlXUQ53Qx"
      },
      "execution_count": null,
      "outputs": []
    },
    {
      "cell_type": "code",
      "source": [
        "def ejecutar_accion(estado, accion, laberinto, tamanio):\n",
        "  fila, columna = divmod(estado, tamanio)\n",
        "  if accion == 0 and fila > 0: # arriba\n",
        "    fila -= 1\n",
        "  elif accion == 1 and fila < tamanio - 1: # abajo\n",
        "    fila += 1\n",
        "  elif accion == 2 and columna > 0: # izquierda\n",
        "    columna -= 1\n",
        "  elif accion == 3 and columna < tamanio - 1: # derecha\n",
        "    columna += 1\n",
        "\n",
        "  siguiente_estado = fila * tamanio + columna\n",
        "  if laberinto[fila, columna] == 1:\n",
        "    recompensa = -100 # Penalizacion por golpear un muro\n",
        "    siguiente_estado = estado # El agente permanece en el mismo lugar si golpea un muro\n",
        "    terminado = False\n",
        "  elif laberinto[fila, columna] == 9:\n",
        "    recompensa = 100 # Recompensa por llegar a la meta\n",
        "    terminado = True\n",
        "  else:\n",
        "    recompensa = -1 # Penalizacion menor por cada paso para fomentar soluciones rapidas\n",
        "    terminado = False\n",
        "\n",
        "  return siguiente_estado, recompensa, terminado"
      ],
      "metadata": {
        "id": "NGTeKlFj59uW"
      },
      "execution_count": null,
      "outputs": []
    },
    {
      "cell_type": "code",
      "source": [
        "# Funcion principal para ejecutar el algoritmo Q-Learning"
      ],
      "metadata": {
        "id": "wdIcWwLU7dro"
      },
      "execution_count": null,
      "outputs": []
    },
    {
      "cell_type": "code",
      "source": [
        "def q_learning(laberinto, tamanio, inicio, meta):\n",
        "  Q = np.zeros((tamanio * tamanio, 4)) # Inicializa la tabla Q para todos los estados y acciones\n",
        "  for episodio in range(num_episodios):\n",
        "    estado = inicio\n",
        "    terminado = False\n",
        "\n",
        "    while not terminado:\n",
        "      accion = epsilon_codicioso(Q, estado, tamanio)\n",
        "      siguiente_estado, recompensa, terminado = ejecutar_accion(estado, accion, laberinto, tamanio)\n",
        "      Q[estado, accion] = (1 - alpha) * Q[estado, accion] + alpha * (recompensa + gamma * np.max(Q[siguiente_estado]))\n",
        "      estado = siguiente_estado\n",
        "\n",
        "  return Q"
      ],
      "metadata": {
        "id": "r3tjLS6O7laB"
      },
      "execution_count": null,
      "outputs": []
    },
    {
      "cell_type": "code",
      "source": [
        "# Funcion para convertir coordenadas a indice lineal"
      ],
      "metadata": {
        "id": "qgYf40aZ8PRi"
      },
      "execution_count": null,
      "outputs": []
    },
    {
      "cell_type": "code",
      "source": [
        "def index_posicion(posicion, tamanio):\n",
        "  return posicion[0] * tamanio + posicion[1]"
      ],
      "metadata": {
        "id": "RBYZjO198SfT"
      },
      "execution_count": null,
      "outputs": []
    },
    {
      "cell_type": "code",
      "source": [
        "# Iniciar el laberinto y configurar el algoritmo Q-Learning"
      ],
      "metadata": {
        "id": "SNPc6zRa8W_t"
      },
      "execution_count": null,
      "outputs": []
    },
    {
      "cell_type": "code",
      "source": [
        "tamanio = 10\n",
        "posicion_inicio = (0,0)\n",
        "posicion_meta = (9,9)\n",
        "laberinto = crear_laberinto(tamanio, 20, inicio=posicion_inicio, meta=posicion_meta)\n",
        "inicio = index_posicion(posicion_inicio, tamanio)\n",
        "meta = index_posicion(posicion_meta, tamanio)\n",
        "valores_Q = q_learning(laberinto, tamanio, inicio, meta)"
      ],
      "metadata": {
        "id": "ah4wGrBe8mkV"
      },
      "execution_count": null,
      "outputs": []
    },
    {
      "cell_type": "code",
      "source": [
        "# Funcion para mostrar el aprendizaje del agente"
      ],
      "metadata": {
        "id": "mjlPx2sH_u7x"
      },
      "execution_count": null,
      "outputs": []
    },
    {
      "cell_type": "code",
      "source": [
        "def mostrar_ruta_aprendida(laberinto, Q, inicio, meta, tamanio):\n",
        "  fila, columna = divmod(inicio, tamanio)\n",
        "  ruta = [(fila, columna)]\n",
        "  estado = inicio\n",
        "\n",
        "  while estado != meta:\n",
        "    accion = np.argmax(Q[estado])\n",
        "    estado, _, _ = ejecutar_accion(estado, accion, laberinto, tamanio)\n",
        "    fila, columna = divmod(estado, tamanio)\n",
        "    ruta.append((fila, columna))\n",
        "\n",
        "  # Mostrar el camino aprendido sobre el laberinto\n",
        "  plt.figure(figsize=(5,5))\n",
        "  plt.imshow(laberinto, cmap='hot', interpolation='nearest')\n",
        "  filas, columnas = zip(*ruta)\n",
        "  plt.plot(columnas, filas, marker='o', color='c')\n",
        "  plt.colorbar()"
      ],
      "metadata": {
        "id": "f8sEGRNx_ymm"
      },
      "execution_count": null,
      "outputs": []
    },
    {
      "cell_type": "code",
      "source": [
        "# Visualizar el rersultado"
      ],
      "metadata": {
        "id": "zsp3LrjcAeUs"
      },
      "execution_count": null,
      "outputs": []
    },
    {
      "cell_type": "code",
      "source": [
        "mostrar_ruta_aprendida(laberinto, valores_Q, inicio, meta, tamanio)"
      ],
      "metadata": {
        "colab": {
          "base_uri": "https://localhost:8080/",
          "height": 435
        },
        "id": "Zyt3uzqQAi2Y",
        "outputId": "5c84e0bd-1107-406d-9f88-901ca7bbb2b8"
      },
      "execution_count": null,
      "outputs": [
        {
          "output_type": "display_data",
          "data": {
            "text/plain": [
              "<Figure size 500x500 with 2 Axes>"
            ],
            "image/png": "[encoded data removed]"
          },
          "metadata": {}
        }
      ]
    },
    {
      "cell_type": "code",
      "source": [],
      "metadata": {
        "id": "4WMDpP8yAoeS"
      },
      "execution_count": null,
      "outputs": []
    }
  ]
}